{
  "cells": [
    {
      "cell_type": "code",
      "execution_count": null,
      "metadata": {
        "id": "glNNju32RD60"
      },
      "outputs": [],
      "source": [
        "import os\n",
        "import tensorflow as tf\n",
        "from tensorflow.keras.applications.mobilenet_v2 import MobileNetV2,preprocess_input\n",
        "from tensorflow.keras.layers import Dense,Conv2D,GlobalAvgPool2D,Input\n",
        "from tensorflow.keras.preprocessing.image import load_img,ImageDataGenerator\n",
        "from tensorflow.keras import callbacks,optimizers\n",
        "import numpy as np\n",
        "from google.colab import drive\n"
      ]
    },
    {
      "cell_type": "code",
      "execution_count": null,
      "metadata": {
        "id": "AGlFsZ7JRFl9",
        "colab": {
          "base_uri": "https://localhost:8080/"
        },
        "outputId": "59a31309-a289-49de-ddfd-90abe40ff279"
      },
      "outputs": [
        {
          "output_type": "stream",
          "name": "stdout",
          "text": [
            "Mounted at /content/drive\n"
          ]
        }
      ],
      "source": [
        "drive.mount('/content/drive')"
      ]
    },
    {
      "cell_type": "code",
      "execution_count": null,
      "metadata": {
        "colab": {
          "base_uri": "https://localhost:8080/"
        },
        "id": "6oTvhPqiRFuo",
        "outputId": "53c24146-29c9-45e7-b8f2-733cc71726a4"
      },
      "outputs": [
        {
          "output_type": "stream",
          "name": "stdout",
          "text": [
            "/content/drive/MyDrive/all_fish\n"
          ]
        }
      ],
      "source": [
        "%cd drive/MyDrive/all_fish/"
      ]
    },
    {
      "cell_type": "code",
      "execution_count": null,
      "metadata": {
        "id": "8oUCJaUQRFxu",
        "colab": {
          "base_uri": "https://localhost:8080/"
        },
        "outputId": "af0771a5-a360-4ddf-a7ba-34cc3fead31f"
      },
      "outputs": [
        {
          "output_type": "stream",
          "name": "stdout",
          "text": [
            "Archive:  NEW.zip\n",
            "  End-of-central-directory signature not found.  Either this file is not\n",
            "  a zipfile, or it constitutes one disk of a multi-part archive.  In the\n",
            "  latter case the central directory and zipfile comment will be found on\n",
            "  the last disk(s) of this archive.\n",
            "unzip:  cannot find zipfile directory in one of NEW.zip or\n",
            "        NEW.zip.zip, and cannot find NEW.zip.ZIP, period.\n"
          ]
        }
      ],
      "source": [
        "#!unzip NEW.zip"
      ]
    },
    {
      "cell_type": "code",
      "execution_count": null,
      "metadata": {
        "colab": {
          "base_uri": "https://localhost:8080/"
        },
        "id": "AGOCPK-rRF0v",
        "outputId": "23826bf5-2c94-43f0-8432-40686c214d59"
      },
      "outputs": [
        {
          "output_type": "execute_result",
          "data": {
            "text/plain": [
              "['fighter fish',\n",
              " 'Gilt Head Bream',\n",
              " 'jalebi fish',\n",
              " 'Red hand fish',\n",
              " 'cat fish',\n",
              " 'Horse Mackerel',\n",
              " 'gold fish',\n",
              " 'Black Sea Sprat',\n",
              " 'anglerfish',\n",
              " 'european sea sturgeon',\n",
              " 'tequils splitfin',\n",
              " 'Red Sea Bream',\n",
              " 'Striped Red Mullet',\n",
              " 'sakhalin sturgeon',\n",
              " 'smalltooth fish',\n",
              " 'sea horse',\n",
              " 'Sea Bass',\n",
              " 'Shrimp',\n",
              " 'Red Mullet',\n",
              " 'tank cleaner fish',\n",
              " 'Trout']"
            ]
          },
          "metadata": {},
          "execution_count": 7
        }
      ],
      "source": [
        "os.listdir(\"NEW\")  "
      ]
    },
    {
      "cell_type": "code",
      "execution_count": null,
      "metadata": {
        "colab": {
          "base_uri": "https://localhost:8080/"
        },
        "id": "h8FfgREhRF3m",
        "outputId": "ccf9d044-9c8d-4703-a637-7ec390051768"
      },
      "outputs": [
        {
          "output_type": "stream",
          "name": "stdout",
          "text": [
            " anglerfish\t\t 'Horse Mackerel'     'sea horse'\n",
            "'Black Sea Sprat'\t 'jalebi fish'\t       Shrimp\n",
            "'cat fish'\t\t 'Red hand fish'      'smalltooth fish'\n",
            "'european sea sturgeon'  'Red Mullet'\t      'Striped Red Mullet'\n",
            "'fighter fish'\t\t 'Red Sea Bream'      'tank cleaner fish'\n",
            "'Gilt Head Bream'\t 'sakhalin sturgeon'  'tequils splitfin'\n",
            "'gold fish'\t\t 'Sea Bass'\t       Trout\n"
          ]
        }
      ],
      "source": [
        "!ls NEW/"
      ]
    },
    {
      "cell_type": "code",
      "execution_count": null,
      "metadata": {
        "colab": {
          "base_uri": "https://localhost:8080/"
        },
        "id": "v-KKTYXJRF58",
        "outputId": "201e5250-c90b-4124-a3ba-ac6dfa5de9bc"
      },
      "outputs": [
        {
          "output_type": "stream",
          "name": "stdout",
          "text": [
            "fighter fish 63\n",
            "Gilt Head Bream 50\n",
            "jalebi fish 52\n",
            "Red hand fish 53\n",
            "cat fish 52\n",
            "Horse Mackerel 50\n",
            "gold fish 100\n",
            "Black Sea Sprat 50\n",
            "anglerfish 54\n",
            "european sea sturgeon 50\n",
            "tequils splitfin 56\n",
            "Red Sea Bream 50\n",
            "Striped Red Mullet 50\n",
            "sakhalin sturgeon 54\n",
            "smalltooth fish 51\n",
            "sea horse 50\n",
            "Sea Bass 50\n",
            "Shrimp 50\n",
            "Red Mullet 50\n",
            "tank cleaner fish 50\n",
            "Trout 60\n"
          ]
        }
      ],
      "source": [
        "for i in os.listdir(\"NEW\"):\n",
        "  print(i,len(os.listdir(\"NEW/\"+i)))"
      ]
    },
    {
      "cell_type": "code",
      "execution_count": null,
      "metadata": {
        "id": "EPqYzR1FRF8V"
      },
      "outputs": [],
      "source": [
        "try:\n",
        "  os.mkdir(\"train\")\n",
        "  os.mkdir(\"test\")\n",
        "except:\n",
        "  pass\n",
        "for i in os.listdir(\"NEW\"):\n",
        "  try:\n",
        "    os.mkdir(\"train/\"+i)\n",
        "    os.mkdir(\"test/\"+i)\n",
        "  except:\n",
        "    pass\n",
        "  for j in os.listdir(\"NEW/\"+i)[:35]:\n",
        "    os.rename(\"NEW/\"+i+\"/\"+j,\"train/\"+i+\"/\"+j)\n",
        "  for j in os.listdir(\"NEW/\"+i)[:15]:\n",
        "    os.rename(\"NEW/\"+i+\"/\"+j,\"test/\"+i+\"/\"+j)"
      ]
    },
    {
      "cell_type": "code",
      "execution_count": null,
      "metadata": {
        "id": "022dG0GfRF-4"
      },
      "outputs": [],
      "source": [
        "def img_Data(dir_path,target_size,batch,class_lst,preprocessing,):\n",
        "  if preprocessing:\n",
        "    gen_object =ImageDataGenerator(preprocessing_function=preprocessing)\n",
        "  else:\n",
        "    gen_object =ImageDataGenerator()\n",
        "\n",
        "  return(gen_object.flow_from_directory(dir_path,\n",
        "                                          target_size= target_size,\n",
        "                                          batch_size=batch,\n",
        "                                          class_mode='sparse',\n",
        "                                          classes=class_lst,\n",
        "                                          shuffle=True))"
      ]
    },
    {
      "cell_type": "code",
      "execution_count": null,
      "metadata": {
        "colab": {
          "base_uri": "https://localhost:8080/"
        },
        "id": "Sg0bswjURGBW",
        "outputId": "8ccbef48-7cea-4ea6-ca1b-a13bc8a89dd5"
      },
      "outputs": [
        {
          "output_type": "stream",
          "name": "stdout",
          "text": [
            "Found 728 images belonging to 21 classes.\n",
            "Found 314 images belonging to 21 classes.\n"
          ]
        }
      ],
      "source": [
        "train_data_gen =img_Data(\"train\",(224,224),500,os.listdir(\"train\"),preprocess_input)\n",
        "valid_data_gen =img_Data(\"test\",(224,224),500,os.listdir(\"test\"),preprocess_input)"
      ]
    },
    {
      "cell_type": "code",
      "execution_count": null,
      "metadata": {
        "id": "ZZL8uvYHRGEM",
        "colab": {
          "base_uri": "https://localhost:8080/"
        },
        "outputId": "68b500b5-8657-4cf4-ffe2-f368fef49448"
      },
      "outputs": [
        {
          "output_type": "stream",
          "name": "stdout",
          "text": [
            "Downloading data from https://storage.googleapis.com/tensorflow/keras-applications/mobilenet_v2/mobilenet_v2_weights_tf_dim_ordering_tf_kernels_1.0_224_no_top.h5\n",
            "9412608/9406464 [==============================] - 0s 0us/step\n",
            "9420800/9406464 [==============================] - 0s 0us/step\n"
          ]
        }
      ],
      "source": [
        "base_model=tf.keras.applications.mobilenet_v2.MobileNetV2(\n",
        "              input_shape=(224,224,3),\n",
        "              alpha=1.0,\n",
        "              include_top=False,\n",
        "              weights='imagenet',\n",
        "              input_tensor=None,\n",
        "              pooling=None,\n",
        "              classes=1000,\n",
        "              classifier_activation='softmax')"
      ]
    },
    {
      "cell_type": "code",
      "execution_count": null,
      "metadata": {
        "id": "rCD38V2UXSNi"
      },
      "outputs": [],
      "source": [
        "base_model.trainable=False"
      ]
    },
    {
      "cell_type": "code",
      "execution_count": null,
      "metadata": {
        "id": "MK2kATxcXSJ9"
      },
      "outputs": [],
      "source": [
        "model=tf.keras.models.Sequential()\n",
        "model.add(base_model)\n",
        "model.add(GlobalAvgPool2D())\n",
        "model.add(Dense(1024,activation='relu'))\n",
        "model.add(Dense(1024,activation='softmax'))\n",
        "\n",
        "model.compile(optimizer='adam',loss='sparse_categorical_crossentropy',\n",
        "              metrics=['accuracy'])"
      ]
    },
    {
      "cell_type": "code",
      "execution_count": null,
      "metadata": {
        "id": "mlqprmAnXSH0"
      },
      "outputs": [],
      "source": [
        "elst=callbacks.EarlyStopping(monitor='val_loss',patience=5,mode='min')\n",
        "save_ck=callbacks.ModelCheckpoint('.mdl_wt.hdf5',save_best_only=True,monitor='val_loss',mode='min')"
      ]
    },
    {
      "cell_type": "code",
      "execution_count": null,
      "metadata": {
        "colab": {
          "base_uri": "https://localhost:8080/"
        },
        "id": "MVL6WAYjXSFM",
        "outputId": "5e42dd6a-c1da-48b5-a72a-ab4c4d3ca8d3"
      },
      "outputs": [
        {
          "output_type": "stream",
          "name": "stdout",
          "text": [
            "Epoch 1/10\n",
            "2/2 [==============================] - 218s 137s/step - loss: 5.6564 - accuracy: 0.2308 - val_loss: 3.0056 - val_accuracy: 0.4459\n",
            "Epoch 2/10\n",
            "2/2 [==============================] - 53s 40s/step - loss: 2.0605 - accuracy: 0.6209 - val_loss: 1.1752 - val_accuracy: 0.7930\n",
            "Epoch 3/10\n",
            "2/2 [==============================] - 52s 26s/step - loss: 0.8950 - accuracy: 0.8681 - val_loss: 0.7147 - val_accuracy: 0.8185\n",
            "Epoch 4/10\n",
            "2/2 [==============================] - 47s 34s/step - loss: 0.4647 - accuracy: 0.8984 - val_loss: 0.4697 - val_accuracy: 0.8471\n",
            "Epoch 5/10\n",
            "2/2 [==============================] - 48s 23s/step - loss: 0.2774 - accuracy: 0.9354 - val_loss: 0.4162 - val_accuracy: 0.8758\n",
            "Epoch 6/10\n",
            "2/2 [==============================] - 53s 40s/step - loss: 0.2002 - accuracy: 0.9423 - val_loss: 0.2937 - val_accuracy: 0.9076\n",
            "Epoch 7/10\n",
            "2/2 [==============================] - 53s 39s/step - loss: 0.1420 - accuracy: 0.9533 - val_loss: 0.2434 - val_accuracy: 0.9172\n",
            "Epoch 8/10\n",
            "2/2 [==============================] - 47s 34s/step - loss: 0.1113 - accuracy: 0.9629 - val_loss: 0.2462 - val_accuracy: 0.9108\n",
            "Epoch 9/10\n",
            "2/2 [==============================] - 52s 40s/step - loss: 0.0771 - accuracy: 0.9808 - val_loss: 0.1845 - val_accuracy: 0.9427\n",
            "Epoch 10/10\n",
            "2/2 [==============================] - 53s 41s/step - loss: 0.0590 - accuracy: 0.9821 - val_loss: 0.1778 - val_accuracy: 0.9299\n"
          ]
        },
        {
          "output_type": "execute_result",
          "data": {
            "text/plain": [
              "<keras.callbacks.History at 0x7f6a45b433d0>"
            ]
          },
          "metadata": {},
          "execution_count": 17
        }
      ],
      "source": [
        "model.fit(train_data_gen,batch_size=500,validation_data=valid_data_gen,callbacks=[elst,save_ck],epochs=10)"
      ]
    }
  ],
  "metadata": {
    "colab": {
      "name": " ALL_FISH.ipynb",
      "provenance": []
    },
    "kernelspec": {
      "display_name": "Python 3",
      "name": "python3"
    },
    "language_info": {
      "name": "python"
    }
  },
  "nbformat": 4,
  "nbformat_minor": 0
}